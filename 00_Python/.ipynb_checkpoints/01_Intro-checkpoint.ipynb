{
 "cells": [
  {
   "cell_type": "markdown",
   "metadata": {},
   "source": [
    "# Introducción a Python"
   ]
  },
  {
   "cell_type": "markdown",
   "metadata": {},
   "source": [
    "## 1. Jupyter Notebook"
   ]
  },
  {
   "cell_type": "markdown",
   "metadata": {},
   "source": [
    "Los archivos `.ipynb` están divididos en *celdas*, en donde podemos escribir texto plano en estilo [Markdown](https://github.com/adam-p/markdown-here/wiki/Markdown-Cheatsheet) (como estamos haciendo acá) o código en lenguaje Python, como se hace a continuación:"
   ]
  },
  {
   "cell_type": "code",
   "execution_count": 13,
   "metadata": {},
   "outputs": [
    {
     "name": "stdout",
     "output_type": "stream",
     "text": [
      "Esta es una celda de código. Para ejecutar la celda, utilizo Crtl+Enter.\n",
      "Lo único que tiene de interesante esta celda es la función print(arg1,arg2,...,argn)\n",
      "que, como su nombre lo indica, imprime lo que está entre paréntesis. No hay más misterio que eso.\n"
     ]
    }
   ],
   "source": [
    "# Esto es una celda de código, no de texto.\n",
    "# Puedo hacer comentarios empezando el renglón con un \"#\".\n",
    "\n",
    "print('Esta es una celda de código. Para ejecutar la celda, utilizo Crtl+Enter.')\n",
    "print('Lo único que tiene de interesante esta celda es la función print(arg1,arg2,...,argn)')\n",
    "print('que, como su nombre lo indica,','imprime lo que está entre paréntesis. No hay más misterio que eso.')"
   ]
  },
  {
   "cell_type": "markdown",
   "metadata": {},
   "source": [
    "En el caso de una celda de código, al oprimir `Crtl+Enter`, las instrucciones se ejecutan una a continuación de la otra. "
   ]
  },
  {
   "cell_type": "markdown",
   "metadata": {},
   "source": [
    "**Para usuaries de Jupyter local**: Para crear una celda nueva, hacemos click en el ícono `+`, que se encuentra en la barra de herramientas. Para eliminarla, el ícono es el de las tijeras. Con el botón *dropdown* de la misma barra se puede elegir si la celda es para uso de texto (opción *Markdown*) o de código (opción *Code*).\n",
    "\n",
    "**Para usuaries de Google Colab**: Para crear una nueva celda podemos hacer click en las opciones `+Code` y `+Text` que aparecen en la parte superior izquierda de la pestaña, o cuando pasamos el cursor por la parte inferior de cualquier celda. Para eliminar una celda busco el ícono \"tacho de basura\" que aparece en la parte superior derecha de la celda que estamos utilizando."
   ]
  },
  {
   "cell_type": "markdown",
   "metadata": {},
   "source": [
    "## 2. Sintaxis básica en Python"
   ]
  },
  {
   "cell_type": "markdown",
   "metadata": {},
   "source": [
    "La sintaxis de Python es bastante \"amable\" en comparación con otros lenguajes de programación. Por ejemplo, para definir una función, lo único que hay que hacer es usar el *keyword* `def` y tabular correctamente:\n",
    "\n",
    "```Python\n",
    "\n",
    "def funcion_en_python(arg1,arg2,...,agrN):\n",
    "    \n",
    "    instruccion1\n",
    "    instruccion2\n",
    "    ...\n",
    "    instruccionN\n",
    "    \n",
    "    return resultado\n",
    "```\n",
    "\n",
    "Veamos un ejemplo:"
   ]
  },
  {
   "cell_type": "code",
   "execution_count": 15,
   "metadata": {},
   "outputs": [
    {
     "name": "stdout",
     "output_type": "stream",
     "text": [
      "1\n",
      "2\n",
      "3\n",
      "4\n",
      "5\n",
      "6\n",
      "7\n",
      "8\n",
      "9\n",
      "10\n",
      "11\n"
     ]
    }
   ],
   "source": [
    "def contar_hasta_10():\n",
    "    i = 0 \n",
    "    while i <= 10:\n",
    "        i = i + 1 \n",
    "        print(i)\n",
    "        \n",
    "def contar_hasta_N(N):\n",
    "    i = 0\n",
    "    while i <= N:\n",
    "        i += 1\n",
    "        print(i)\n",
    "        \n",
    "# Comentar y descomentar para ver qué hace cada llamado a la función:\n",
    "contar_hasta_10()\n",
    "# contar_hasta_N(4)\n",
    "# contar_hasta_N(N=4)"
   ]
  },
  {
   "cell_type": "markdown",
   "metadata": {},
   "source": [
    "Pueden observarse varias cosas:\n",
    "\n",
    "* Python no usa llaves ni `;` pero, a cambio, pide que el código esté correctamente tabulado. \n",
    "\n",
    "* La variable `i` nunca fue declarada ya que en Python no hay que declarar variables. Simplemente usarlas.\n",
    "\n",
    "* El *keyword* `while` funciona exactamente igual que en casi todos los lenguajes de programación conocidos, con la ventaja de que no es necesario usar paréntesis.\n",
    "\n",
    "* La operación `i += 1` es equivalente a `i = i + 1`. Por desgracia, en Python no existe el operador `++`, por lo que `i++` o `++i` es inválido :(\n",
    "\n",
    "* La función `print` imprime por consola. Fin.\n",
    "\n",
    "* Las funciones que reciben argumentos pueden hacerlo implícita o explícitamente. En el primer caso sería `contar_hasta_N(4)` y en el segundo, `contar_hasta_N(N=4)`. Si se hace explícitamente, los argumentos se pueden pasar en cualquier orden. Si no, no.\n",
    "\n",
    "En estos casos, la función no devuelve ningún valor. Para hacer que una función devuelva un valor, se usa el keyword `return`."
   ]
  },
  {
   "cell_type": "code",
   "execution_count": 14,
   "metadata": {},
   "outputs": [
    {
     "name": "stdout",
     "output_type": "stream",
     "text": [
      "3\n",
      "6\n",
      "9\n",
      "12\n",
      "Hay 4 múltiplos de 3 mayores a 1 y menores a 15\n"
     ]
    }
   ],
   "source": [
    "def imprimir_multiplos_de_k_menores_a_N(N,k=2):\n",
    "    i = k\n",
    "    contador_multiplos = 0\n",
    "    while i < N:\n",
    "        if i % k == 0:\n",
    "            contador_multiplos += 1\n",
    "            print(i)\n",
    "        i += 1\n",
    "    return contador_multiplos\n",
    "\n",
    "n, k = 15, 3\n",
    "n_multiplos = imprimir_multiplos_de_k_menores_a_N(N=n,k=k)\n",
    "mensaje = f\"Hay {n_multiplos} múltiplos de {k} mayores a 1 y menores a {n}\"\n",
    "print(mensaje)"
   ]
  },
  {
   "cell_type": "markdown",
   "metadata": {},
   "source": [
    "Más observaciones:\n",
    "\n",
    "* Se usó `if` para escribir una instrucción condicional. También existen `else` y `elif` que funcionan exactamente como parece que funcionan.\n",
    "\n",
    "* La el resto de una división se obtiene con el operador `%`.\n",
    "\n",
    "* Es posible definir muchas variables en una sola línea. En el ejemplo se usó `n, k = 15, 3` para almacenar el valor `15` en `n` y el valor `3` en `k`.\n",
    "\n",
    "* Formatear un *string* para escribir un mensaje de salida es bastante intuitivo. En la sección siguiente se hablará más al respecto."
   ]
  },
  {
   "cell_type": "markdown",
   "metadata": {},
   "source": [
    "## 3. Tipos de datos en Python\n",
    "\n",
    "Hay muchos tipos de datos en Python, pero los más importantes son los siguientes:\n",
    "\n",
    "* `int`: número entero\n",
    "* `float`: número racional (coma flotante).\n",
    "* `complex`: número complejo (suma de un flot real y un float imaginario)\n",
    "* `string`: cadena de caracteres. (En Python no hay tipo \"char\". Un caracter también es un string.)\n",
    "* `bool`: booleano (`True` o `False`).\n",
    "* `None`: tipo nulo (cumple una función similar a `null` en C).\n",
    "* `list`: contenedor de tipo lista.\n",
    "* `tuple`: contenedor de tipo tupla.\n",
    "* `dict`: contenedor de tipo diccionario.\n",
    "* `set`: contenedor de tipo conjunto.\n",
    "* `range`: permite iterar sobre una serie de números enteros"
   ]
  },
  {
   "cell_type": "code",
   "execution_count": null,
   "metadata": {},
   "outputs": [],
   "source": []
  }
 ],
 "metadata": {
  "kernelspec": {
   "display_name": "Python 3 (ipykernel)",
   "language": "python",
   "name": "python3"
  },
  "language_info": {
   "codemirror_mode": {
    "name": "ipython",
    "version": 3
   },
   "file_extension": ".py",
   "mimetype": "text/x-python",
   "name": "python",
   "nbconvert_exporter": "python",
   "pygments_lexer": "ipython3",
   "version": "3.9.12"
  }
 },
 "nbformat": 4,
 "nbformat_minor": 4
}
